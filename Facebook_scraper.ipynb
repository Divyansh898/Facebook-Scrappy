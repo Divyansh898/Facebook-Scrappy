{
 "cells": [
  {
   "cell_type": "code",
   "execution_count": 1,
   "id": "54292c0e",
   "metadata": {},
   "outputs": [],
   "source": [
    "from selenium import webdriver\n",
    "from selenium.common.exceptions import TimeoutException, WebDriverException\n",
    "from selenium.webdriver.chrome.options import Options\n",
    "from selenium.webdriver.common.keys import Keys\n",
    "from selenium.webdriver.support import expected_conditions as EC\n",
    "from selenium.webdriver.common.by import By\n",
    "from selenium.webdriver.support.wait import WebDriverWait\n",
    "from selenium.webdriver.common.proxy import Proxy,ProxyType\n",
    "from random_user_agent.user_agent import UserAgent\n",
    "from random_user_agent.params import SoftwareName, OperatingSystem\n",
    "import time\n",
    "import wget\n",
    "import os\n",
    "import random\n",
    "from selenium.webdriver.common.by import By\n",
    "\n",
    "\n"
   ]
  },
  {
   "cell_type": "code",
   "execution_count": 2,
   "id": "8d762c7c",
   "metadata": {},
   "outputs": [],
   "source": [
    "proxy_list=[]\n",
    "with open('proxy.txt') as f:\n",
    "    for line in f:\n",
    "        proxy_list.append(line.strip())\n",
    "random_ip=random.choice(proxy_list)\n",
    "# print(proxy_list)\n",
    "# print(random_ip)"
   ]
  },
  {
   "cell_type": "code",
   "execution_count": 3,
   "id": "ead504e3",
   "metadata": {},
   "outputs": [
    {
     "name": "stderr",
     "output_type": "stream",
     "text": [
      "C:\\Users\\Divyansh Varshney\\AppData\\Local\\Temp\\ipykernel_11196\\1164941749.py:5: DeprecationWarning: executable_path has been deprecated, please pass in a Service object\n",
      "  driver = webdriver.Chrome(\"C:\\Program Files\\Driver\\chromedriver.exe\",chrome_options=chrome_options)\n",
      "C:\\Users\\Divyansh Varshney\\AppData\\Local\\Temp\\ipykernel_11196\\1164941749.py:5: DeprecationWarning: use options instead of chrome_options\n",
      "  driver = webdriver.Chrome(\"C:\\Program Files\\Driver\\chromedriver.exe\",chrome_options=chrome_options)\n"
     ]
    }
   ],
   "source": [
    "\n",
    "chrome_options = webdriver.ChromeOptions()\n",
    "prefs = {\"profile.default_content_setting_values.notifications\" : 2}\n",
    "chrome_options.add_experimental_option(\"prefs\",prefs)\n",
    "\n",
    "driver = webdriver.Chrome(\"C:\\Program Files\\Driver\\chromedriver.exe\",chrome_options=chrome_options)\n",
    "PROXY = random_ip\n",
    "chrome_options = webdriver.ChromeOptions()\n",
    "chrome_options.add_argument('--proxy-server=%s' % PROXY)\n",
    "driver.get(\"http://www.facebook.com\")"
   ]
  },
  {
   "cell_type": "code",
   "execution_count": 4,
   "id": "646636e4",
   "metadata": {},
   "outputs": [],
   "source": [
    "username = WebDriverWait(driver, 10).until(EC.element_to_be_clickable((By.CSS_SELECTOR, \"input[name='email']\")))\n",
    "password = WebDriverWait(driver, 10).until(EC.element_to_be_clickable((By.CSS_SELECTOR, \"input[name='pass']\")))\n",
    "\n",
    "username.clear()\n",
    "username.send_keys(\"ptest8745@gmail.com\")\n",
    "password.clear()\n",
    "password.send_keys(\"Divyansh@1432\")\n",
    "# time.sleep(5)\n",
    "\n",
    "button = WebDriverWait(driver, 2).until(EC.element_to_be_clickable((By.CSS_SELECTOR, \"button[type='submit']\"))).click()"
   ]
  },
  {
   "cell_type": "code",
   "execution_count": 6,
   "id": "2afef53c",
   "metadata": {},
   "outputs": [
    {
     "name": "stdout",
     "output_type": "stream",
     "text": [
      "Verified Account\n",
      "Verified Account\n",
      "This account is not a Verified Account\n"
     ]
    }
   ],
   "source": [
    "\n",
    "# driver.get(\"https://www.facebook.com/divyansh.varshney.758/\")\n",
    "p=[\"https://www.facebook.com/yadavakhilesh\",\"https://www.facebook.com/narendramodi\",'https://www.facebook.com/profile.php?id=100068082727818']\n",
    "# driver.get(\"https://www.facebook.com/yadavakhilesh\")\n",
    "# driver.get(\"https://www.facebook.com/narendramodi\")\n",
    "# driver.get(\"https://www.facebook.com/profile.php?id=100068082727818\")\n",
    "\n",
    "for i in p:\n",
    "    driver.get(i)\n",
    "    time.sleep(5)\n",
    "# print()\n",
    "    try:\n",
    "        friend_count=driver.find_element(By.XPATH, \"//span[@class='x193iq5w xeuugli x13faqbe x1vvkbs x1xmvt09 x1lliihq x1s928wv xhkezso x1gmr53x x1cpjm7i x1fgarty x1943h6x xudqn12 x676frb x1lkfr7t x1lbecb7 xo1l8bm xi81zsa']\")\n",
    "    except:\n",
    "        pass\n",
    "\n",
    "    try:\n",
    "        bluetick=driver.find_element(By.XPATH,\"//i[@aria-label='Verified account']\")\n",
    "        if bluetick:\n",
    "            print(\"Verified Account\")\n",
    "    except:\n",
    "        print(\"This account is not a Verified Account\")\n",
    "        pass\n",
    "# friend_count.text\n",
    "\n",
    "\n",
    "\n",
    "\n",
    "\n"
   ]
  },
  {
   "cell_type": "code",
   "execution_count": null,
   "id": "8019f16e",
   "metadata": {},
   "outputs": [],
   "source": []
  },
  {
   "cell_type": "code",
   "execution_count": null,
   "id": "5af1850a",
   "metadata": {},
   "outputs": [],
   "source": [
    "\n",
    "        "
   ]
  },
  {
   "cell_type": "code",
   "execution_count": null,
   "id": "9e849db8",
   "metadata": {},
   "outputs": [],
   "source": []
  },
  {
   "cell_type": "code",
   "execution_count": null,
   "id": "ddf61417",
   "metadata": {},
   "outputs": [],
   "source": []
  }
 ],
 "metadata": {
  "kernelspec": {
   "display_name": "Python 3 (ipykernel)",
   "language": "python",
   "name": "python3"
  },
  "language_info": {
   "codemirror_mode": {
    "name": "ipython",
    "version": 3
   },
   "file_extension": ".py",
   "mimetype": "text/x-python",
   "name": "python",
   "nbconvert_exporter": "python",
   "pygments_lexer": "ipython3",
   "version": "3.9.13"
  }
 },
 "nbformat": 4,
 "nbformat_minor": 5
}
